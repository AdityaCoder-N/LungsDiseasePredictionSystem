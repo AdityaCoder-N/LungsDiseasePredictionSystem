{
 "cells": [
  {
   "cell_type": "code",
   "execution_count": 6,
   "id": "88337d58",
   "metadata": {},
   "outputs": [],
   "source": [
    "import os\n",
    "import tensorflow as tf\n",
    "from tensorflow.keras.layers import Dense, Dropout, Conv2D, MaxPooling2D, Flatten\n",
    "from tensorflow.keras import models,layers\n",
    "from tensorflow.keras.optimizers import Adam\n",
    "from tensorflow.keras.models import Model\n",
    "from tensorflow.keras.callbacks import EarlyStopping, ReduceLROnPlateau, ModelCheckpoint\n",
    "from tensorflow.keras.metrics import binary_accuracy\n",
    "from tensorflow.keras.models import Sequential\n",
    "from tensorflow.keras.layers import BatchNormalization , MaxPool2D\n",
    "\n",
    "\n",
    "import matplotlib.pyplot as plt"
   ]
  },
  {
   "cell_type": "code",
   "execution_count": 7,
   "id": "772eadd9",
   "metadata": {},
   "outputs": [],
   "source": [
    "IMAGE_SIZE = 256\n",
    "IMAGE_HEIGHT = 256\n",
    "IMAGE_WIDTH = 256\n",
    "BATCH_SIZE = 32\n",
    "CHANNELS=3\n",
    "EPOCHS = 20"
   ]
  },
  {
   "cell_type": "markdown",
   "id": "820ebe69",
   "metadata": {},
   "source": [
    "# Fetching Data"
   ]
  },
  {
   "cell_type": "code",
   "execution_count": 8,
   "id": "eb42da3a",
   "metadata": {},
   "outputs": [
    {
     "name": "stdout",
     "output_type": "stream",
     "text": [
      "Found 5000 files belonging to 2 classes.\n"
     ]
    }
   ],
   "source": [
    "dataset = tf.keras.preprocessing.image_dataset_from_directory(\n",
    "    \"Dataset\",\n",
    "    shuffle = True,\n",
    "    image_size = (IMAGE_SIZE,IMAGE_SIZE),\n",
    "    batch_size = BATCH_SIZE,\n",
    ")"
   ]
  },
  {
   "cell_type": "code",
   "execution_count": 9,
   "id": "7909222d",
   "metadata": {},
   "outputs": [
    {
     "data": {
      "text/plain": [
       "['Lung_Normal', 'Lung_Tuberculosis']"
      ]
     },
     "execution_count": 9,
     "metadata": {},
     "output_type": "execute_result"
    }
   ],
   "source": [
    "class_names = dataset.class_names\n",
    "class_names"
   ]
  },
  {
   "cell_type": "markdown",
   "id": "c28506e9",
   "metadata": {},
   "source": [
    "# Splitting Data"
   ]
  },
  {
   "cell_type": "code",
   "execution_count": 10,
   "id": "9efac94f",
   "metadata": {},
   "outputs": [],
   "source": [
    "#fuction to train test split data : \n",
    "\n",
    "def get_dataset_partitions_tf(ds, train_split = 0.8 , val_split = 0.1 , test_split=0.1, shuffle=True,shuffle_size = 10000):\n",
    "    \n",
    "    if(shuffle):\n",
    "        ds.shuffle(shuffle_size,seed=12)\n",
    "    \n",
    "    ds_size = len(ds)\n",
    "    \n",
    "    train_size = int(ds_size * train_split)\n",
    "    validation_size = int(ds_size* val_split)\n",
    "    \n",
    "    train_dataset = ds.take(train_size)\n",
    "    \n",
    "    remaining = ds.skip(train_size)\n",
    "    validation_dataset = remaining.take(validation_size)\n",
    "    \n",
    "    test_dataset = remaining.skip(validation_size)\n",
    "    \n",
    "    \n",
    "    return train_dataset , validation_dataset , test_dataset"
   ]
  },
  {
   "cell_type": "code",
   "execution_count": 11,
   "id": "4606cbd9",
   "metadata": {},
   "outputs": [],
   "source": [
    "train_ds , val_ds , test_ds = get_dataset_partitions_tf(dataset)"
   ]
  },
  {
   "cell_type": "code",
   "execution_count": 12,
   "id": "b8453e87",
   "metadata": {},
   "outputs": [],
   "source": [
    "#using cache and prefetch to improve performance during training \n",
    "\n",
    "train_ds = train_ds.cache().shuffle(1000).prefetch(buffer_size = tf.data.AUTOTUNE)\n",
    "val_ds = val_ds.cache().shuffle(1000).prefetch(buffer_size = tf.data.AUTOTUNE)\n",
    "test_ds = test_ds.cache().shuffle(1000).prefetch(buffer_size = tf.data.AUTOTUNE)"
   ]
  },
  {
   "cell_type": "code",
   "execution_count": 13,
   "id": "b3bfa590",
   "metadata": {},
   "outputs": [],
   "source": [
    "#rescaling image rgb to number between 0 and 1 \n",
    "\n",
    "resize_and_rescale = tf.keras.Sequential([\n",
    "    layers.experimental.preprocessing.Resizing(IMAGE_HEIGHT,IMAGE_WIDTH),\n",
    "    layers.experimental.preprocessing.Rescaling(1.0/255),\n",
    "])\n"
   ]
  },
  {
   "cell_type": "code",
   "execution_count": 14,
   "id": "88285e77",
   "metadata": {},
   "outputs": [],
   "source": [
    "# Using data augumentaion => creating flipped images, rotated , more contrasting , zoomed images \n",
    "                            #from original dataset to get a good training sample\n",
    "    \n",
    "data_augmentation = tf.keras.Sequential([\n",
    "    layers.experimental.preprocessing.RandomFlip(\"horizontal_and_vertical\"),\n",
    "    layers.experimental.preprocessing.RandomRotation(0.2),\n",
    "#     layers.experimental.preprocessing.RandomZoom(0.2),\n",
    "#     layers.experimental.preprocessing.RandomContrast(0.2),\n",
    "#     layers.experimental.preprocessing.RandomTranslation(height_factor=0.2, width_factor=0.2)\n",
    "])"
   ]
  },
  {
   "cell_type": "markdown",
   "id": "3f3cd846",
   "metadata": {},
   "source": [
    "# Defining CNN Model\n"
   ]
  },
  {
   "cell_type": "code",
   "execution_count": 19,
   "id": "54fe9033",
   "metadata": {},
   "outputs": [
    {
     "name": "stdout",
     "output_type": "stream",
     "text": [
      "Model: \"sequential_6\"\n",
      "_________________________________________________________________\n",
      " Layer (type)                Output Shape              Param #   \n",
      "=================================================================\n",
      " conv2d_8 (Conv2D)           (None, 256, 256, 32)      896       \n",
      "                                                                 \n",
      " batch_normalization_7 (Batc  (None, 256, 256, 32)     128       \n",
      " hNormalization)                                                 \n",
      "                                                                 \n",
      " max_pooling2d_6 (MaxPooling  (None, 128, 128, 32)     0         \n",
      " 2D)                                                             \n",
      "                                                                 \n",
      " conv2d_9 (Conv2D)           (None, 128, 128, 64)      18496     \n",
      "                                                                 \n",
      " dropout_4 (Dropout)         (None, 128, 128, 64)      0         \n",
      "                                                                 \n",
      " batch_normalization_8 (Batc  (None, 128, 128, 64)     256       \n",
      " hNormalization)                                                 \n",
      "                                                                 \n",
      " max_pooling2d_7 (MaxPooling  (None, 64, 64, 64)       0         \n",
      " 2D)                                                             \n",
      "                                                                 \n",
      " conv2d_10 (Conv2D)          (None, 64, 64, 64)        36928     \n",
      "                                                                 \n",
      " batch_normalization_9 (Batc  (None, 64, 64, 64)       256       \n",
      " hNormalization)                                                 \n",
      "                                                                 \n",
      " max_pooling2d_8 (MaxPooling  (None, 32, 32, 64)       0         \n",
      " 2D)                                                             \n",
      "                                                                 \n",
      " conv2d_11 (Conv2D)          (None, 32, 32, 128)       73856     \n",
      "                                                                 \n",
      " dropout_5 (Dropout)         (None, 32, 32, 128)       0         \n",
      "                                                                 \n",
      " batch_normalization_10 (Bat  (None, 32, 32, 128)      512       \n",
      " chNormalization)                                                \n",
      "                                                                 \n",
      " max_pooling2d_9 (MaxPooling  (None, 16, 16, 128)      0         \n",
      " 2D)                                                             \n",
      "                                                                 \n",
      " conv2d_12 (Conv2D)          (None, 16, 16, 256)       295168    \n",
      "                                                                 \n",
      " dropout_6 (Dropout)         (None, 16, 16, 256)       0         \n",
      "                                                                 \n",
      " batch_normalization_11 (Bat  (None, 16, 16, 256)      1024      \n",
      " chNormalization)                                                \n",
      "                                                                 \n",
      " max_pooling2d_10 (MaxPoolin  (None, 8, 8, 256)        0         \n",
      " g2D)                                                            \n",
      "                                                                 \n",
      " flatten_1 (Flatten)         (None, 16384)             0         \n",
      "                                                                 \n",
      " dense_2 (Dense)             (None, 128)               2097280   \n",
      "                                                                 \n",
      " dropout_7 (Dropout)         (None, 128)               0         \n",
      "                                                                 \n",
      " dense_3 (Dense)             (None, 1)                 129       \n",
      "                                                                 \n",
      "=================================================================\n",
      "Total params: 2,524,929\n",
      "Trainable params: 2,523,841\n",
      "Non-trainable params: 1,088\n",
      "_________________________________________________________________\n",
      "Epoch 1/20\n",
      "125/125 [==============================] - 353s 3s/step - loss: 0.8480 - accuracy: 0.8857 - val_loss: 1.0781 - val_accuracy: 0.8062\n",
      "Epoch 2/20\n",
      "125/125 [==============================] - 283s 2s/step - loss: 0.2404 - accuracy: 0.9305 - val_loss: 0.1992 - val_accuracy: 0.9458\n",
      "Epoch 3/20\n",
      "125/125 [==============================] - 281s 2s/step - loss: 0.1790 - accuracy: 0.9465 - val_loss: 0.1437 - val_accuracy: 0.9604\n",
      "Epoch 4/20\n",
      "125/125 [==============================] - 283s 2s/step - loss: 0.1379 - accuracy: 0.9525 - val_loss: 0.9916 - val_accuracy: 0.5896\n",
      "Epoch 5/20\n",
      "125/125 [==============================] - 292s 2s/step - loss: 0.0956 - accuracy: 0.9620 - val_loss: 0.3527 - val_accuracy: 0.8583\n",
      "Epoch 6/20\n",
      "125/125 [==============================] - 313s 3s/step - loss: 0.1098 - accuracy: 0.9620 - val_loss: 8.9451 - val_accuracy: 0.6604\n",
      "Epoch 7/20\n",
      "125/125 [==============================] - 318s 3s/step - loss: 0.0842 - accuracy: 0.9665 - val_loss: 0.2701 - val_accuracy: 0.9333\n",
      "Epoch 8/20\n",
      "125/125 [==============================] - 310s 2s/step - loss: 0.0803 - accuracy: 0.9707 - val_loss: 0.2878 - val_accuracy: 0.9458\n",
      "Epoch 9/20\n",
      "125/125 [==============================] - 297s 2s/step - loss: 0.0796 - accuracy: 0.9745 - val_loss: 3.9822 - val_accuracy: 0.6896\n",
      "Epoch 10/20\n",
      "125/125 [==============================] - 298s 2s/step - loss: 0.0840 - accuracy: 0.9703 - val_loss: 0.2325 - val_accuracy: 0.9646\n",
      "Epoch 11/20\n",
      "125/125 [==============================] - 296s 2s/step - loss: 0.0703 - accuracy: 0.9725 - val_loss: 9.3820 - val_accuracy: 0.6208\n",
      "Epoch 12/20\n",
      "125/125 [==============================] - 303s 2s/step - loss: 0.0670 - accuracy: 0.9732 - val_loss: 0.3607 - val_accuracy: 0.9167\n",
      "Epoch 13/20\n",
      "125/125 [==============================] - 305s 2s/step - loss: 0.0521 - accuracy: 0.9787 - val_loss: 0.4434 - val_accuracy: 0.9688\n",
      "Epoch 14/20\n",
      "125/125 [==============================] - 290s 2s/step - loss: 0.0666 - accuracy: 0.9787 - val_loss: 0.2670 - val_accuracy: 0.9667\n",
      "Epoch 15/20\n",
      "125/125 [==============================] - 286s 2s/step - loss: 0.0449 - accuracy: 0.9805 - val_loss: 3.3670 - val_accuracy: 0.6938\n",
      "Epoch 16/20\n",
      "125/125 [==============================] - 297s 2s/step - loss: 0.0530 - accuracy: 0.9810 - val_loss: 0.4327 - val_accuracy: 0.8375\n",
      "Epoch 17/20\n",
      "125/125 [==============================] - 311s 2s/step - loss: 0.0545 - accuracy: 0.9803 - val_loss: 0.4156 - val_accuracy: 0.9688\n",
      "Epoch 18/20\n",
      "125/125 [==============================] - 301s 2s/step - loss: 0.0398 - accuracy: 0.9825 - val_loss: 0.8514 - val_accuracy: 0.7979\n",
      "Epoch 19/20\n",
      "125/125 [==============================] - 303s 2s/step - loss: 0.0400 - accuracy: 0.9855 - val_loss: 0.7789 - val_accuracy: 0.7583\n",
      "Epoch 20/20\n",
      "125/125 [==============================] - 305s 2s/step - loss: 0.0385 - accuracy: 0.9860 - val_loss: 0.3482 - val_accuracy: 0.9375\n",
      "17/17 [==============================] - 43s 406ms/step - loss: 0.4785 - accuracy: 0.9154\n",
      "Test accuracy: 0.9153845906257629\n"
     ]
    }
   ],
   "source": [
    "model = Sequential()\n",
    "mode.add(resize_and_rescale)\n",
    "model.add(data_augmentation)\n",
    "model.add(Conv2D(32 , (3,3) , strides = 1 , padding = 'same' , activation = 'relu' , input_shape = (256,256,3)))\n",
    "model.add(BatchNormalization())\n",
    "model.add(MaxPool2D((2,2) , strides = 2 , padding = 'same'))\n",
    "model.add(Conv2D(64 , (3,3) , strides = 1 , padding = 'same' , activation = 'relu'))\n",
    "model.add(Dropout(0.1))\n",
    "model.add(BatchNormalization())\n",
    "model.add(MaxPool2D((2,2) , strides = 2 , padding = 'same'))\n",
    "model.add(Conv2D(64 , (3,3) , strides = 1 , padding = 'same' , activation = 'relu'))\n",
    "model.add(BatchNormalization())\n",
    "model.add(MaxPool2D((2,2) , strides = 2 , padding = 'same'))\n",
    "model.add(Conv2D(128 , (3,3) , strides = 1 , padding = 'same' , activation = 'relu'))\n",
    "model.add(Dropout(0.2))\n",
    "model.add(BatchNormalization())\n",
    "model.add(MaxPool2D((2,2) , strides = 2 , padding = 'same'))\n",
    "model.add(Conv2D(256 , (3,3) , strides = 1 , padding = 'same' , activation = 'relu'))\n",
    "model.add(Dropout(0.2))\n",
    "model.add(BatchNormalization())\n",
    "model.add(MaxPool2D((2,2) , strides = 2 , padding = 'same'))\n",
    "model.add(Flatten())\n",
    "model.add(Dense(units = 128 , activation = 'relu'))\n",
    "model.add(Dropout(0.2))\n",
    "model.add(Dense(units = 1 , activation = 'sigmoid'))\n",
    "model.compile(optimizer = \"rmsprop\" , loss = 'binary_crossentropy' , metrics = ['accuracy'])\n",
    "model.summary()\n",
    "\n",
    "# Train the model\n",
    "history = model.fit(train_ds, epochs=EPOCHS,verbose=1, validation_data=val_ds)\n",
    "\n",
    "# Evaluate the model\n",
    "test_loss, test_acc = model.evaluate(test_ds)\n",
    "print('Test accuracy:', test_acc)\n"
   ]
  },
  {
   "cell_type": "code",
   "execution_count": 20,
   "id": "5caa1748",
   "metadata": {},
   "outputs": [],
   "source": [
    "model.save('latest_model.h5')"
   ]
  },
  {
   "cell_type": "code",
   "execution_count": 4,
   "id": "868e3d74",
   "metadata": {},
   "outputs": [],
   "source": [
    "model = models.load_model('tuberculosis_model.h5')"
   ]
  },
  {
   "cell_type": "code",
   "execution_count": 15,
   "id": "bd80e84b",
   "metadata": {},
   "outputs": [
    {
     "name": "stdout",
     "output_type": "stream",
     "text": [
      "Epoch 1/20\n",
      "125/125 [==============================] - 346s 3s/step - loss: 0.1492 - accuracy: 0.9718 - val_loss: 0.1803 - val_accuracy: 0.9312\n",
      "Epoch 2/20\n",
      "125/125 [==============================] - 285s 2s/step - loss: 0.0768 - accuracy: 0.9760 - val_loss: 0.0754 - val_accuracy: 0.9792\n",
      "Epoch 3/20\n",
      "125/125 [==============================] - 285s 2s/step - loss: 0.0539 - accuracy: 0.9808 - val_loss: 1.3230 - val_accuracy: 0.8958\n",
      "Epoch 4/20\n",
      "125/125 [==============================] - 285s 2s/step - loss: 0.0562 - accuracy: 0.9808 - val_loss: 2.9887 - val_accuracy: 0.7729\n",
      "Epoch 5/20\n",
      "125/125 [==============================] - 282s 2s/step - loss: 0.0538 - accuracy: 0.9833 - val_loss: 0.2036 - val_accuracy: 0.9312\n",
      "Epoch 6/20\n",
      "125/125 [==============================] - 282s 2s/step - loss: 0.0473 - accuracy: 0.9872 - val_loss: 0.3059 - val_accuracy: 0.8562\n",
      "Epoch 7/20\n",
      "125/125 [==============================] - 282s 2s/step - loss: 0.0423 - accuracy: 0.9850 - val_loss: 0.7076 - val_accuracy: 0.8438\n",
      "Epoch 8/20\n",
      "125/125 [==============================] - 283s 2s/step - loss: 0.0436 - accuracy: 0.9870 - val_loss: 0.0675 - val_accuracy: 0.9771\n",
      "Epoch 9/20\n",
      "125/125 [==============================] - 282s 2s/step - loss: 0.0427 - accuracy: 0.9843 - val_loss: 0.2342 - val_accuracy: 0.8958\n",
      "Epoch 10/20\n",
      "125/125 [==============================] - 283s 2s/step - loss: 0.0316 - accuracy: 0.9895 - val_loss: 0.2170 - val_accuracy: 0.9333\n",
      "Epoch 11/20\n",
      "125/125 [==============================] - 283s 2s/step - loss: 0.0366 - accuracy: 0.9872 - val_loss: 0.1713 - val_accuracy: 0.9292\n",
      "Epoch 12/20\n",
      "125/125 [==============================] - 283s 2s/step - loss: 0.0232 - accuracy: 0.9918 - val_loss: 1.2694 - val_accuracy: 0.7708\n",
      "Epoch 13/20\n",
      "125/125 [==============================] - 283s 2s/step - loss: 0.0284 - accuracy: 0.9910 - val_loss: 0.0976 - val_accuracy: 0.9667\n",
      "Epoch 14/20\n",
      "125/125 [==============================] - 283s 2s/step - loss: 0.0241 - accuracy: 0.9895 - val_loss: 0.2107 - val_accuracy: 0.9771\n",
      "Epoch 15/20\n",
      "125/125 [==============================] - 283s 2s/step - loss: 0.0296 - accuracy: 0.9898 - val_loss: 0.1020 - val_accuracy: 0.9729\n",
      "Epoch 16/20\n",
      "125/125 [==============================] - 282s 2s/step - loss: 0.0365 - accuracy: 0.9910 - val_loss: 0.3359 - val_accuracy: 0.9167\n",
      "Epoch 17/20\n",
      "125/125 [==============================] - 286s 2s/step - loss: 0.0158 - accuracy: 0.9940 - val_loss: 0.2246 - val_accuracy: 0.8813\n",
      "Epoch 18/20\n",
      "125/125 [==============================] - 282s 2s/step - loss: 0.0304 - accuracy: 0.9920 - val_loss: 7.5609 - val_accuracy: 0.6896\n",
      "Epoch 19/20\n",
      "125/125 [==============================] - 283s 2s/step - loss: 0.0246 - accuracy: 0.9925 - val_loss: 0.2081 - val_accuracy: 0.8708\n",
      "Epoch 20/20\n",
      "125/125 [==============================] - 282s 2s/step - loss: 0.0281 - accuracy: 0.9933 - val_loss: 0.2346 - val_accuracy: 0.9333\n"
     ]
    }
   ],
   "source": [
    "history = model.fit(train_ds, epochs=20,verbose=1, validation_data=val_ds)"
   ]
  },
  {
   "cell_type": "code",
   "execution_count": 16,
   "id": "f6fec86a",
   "metadata": {},
   "outputs": [
    {
     "name": "stdout",
     "output_type": "stream",
     "text": [
      "17/17 [==============================] - 41s 384ms/step - loss: 0.1701 - accuracy: 0.9423\n",
      "Test accuracy: 0.942307710647583\n"
     ]
    }
   ],
   "source": [
    "# Evaluate the model\n",
    "test_loss, test_acc = model.evaluate(test_ds)\n",
    "print('Test accuracy:', test_acc)"
   ]
  },
  {
   "cell_type": "code",
   "execution_count": 17,
   "id": "1208aaae",
   "metadata": {},
   "outputs": [],
   "source": [
    "model.save('tuberculosis_model.h5')"
   ]
  },
  {
   "cell_type": "code",
   "execution_count": null,
   "id": "02899c95",
   "metadata": {},
   "outputs": [],
   "source": []
  }
 ],
 "metadata": {
  "kernelspec": {
   "display_name": "Python 3 (ipykernel)",
   "language": "python",
   "name": "python3"
  },
  "language_info": {
   "codemirror_mode": {
    "name": "ipython",
    "version": 3
   },
   "file_extension": ".py",
   "mimetype": "text/x-python",
   "name": "python",
   "nbconvert_exporter": "python",
   "pygments_lexer": "ipython3",
   "version": "3.10.9"
  }
 },
 "nbformat": 4,
 "nbformat_minor": 5
}
